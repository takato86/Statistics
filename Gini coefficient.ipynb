{
 "cells": [
  {
   "cell_type": "code",
   "execution_count": 2,
   "metadata": {
    "collapsed": true
   },
   "outputs": [],
   "source": [
    "import numpy as np\n",
    "import matplotlib.pyplot as plt"
   ]
  },
  {
   "cell_type": "code",
   "execution_count": 1,
   "metadata": {
    "collapsed": true
   },
   "outputs": [],
   "source": [
    "A = [0,3,3,5,5,5,5,7,7,10]\n",
    "B = [0,1,2,3,5,5,7,8,9,10]\n",
    "C = [3,4,4,5,5,5,5,6,6,7]"
   ]
  },
  {
   "cell_type": "code",
   "execution_count": 4,
   "metadata": {},
   "outputs": [
    {
     "data": {
      "image/png": "[encoded data removed]",
      "text/plain": [
       "<matplotlib.figure.Figure at 0x10ac2af28>"
      ]
     },
     "metadata": {},
     "output_type": "display_data"
    }
   ],
   "source": [
    "plt.plot(A)\n",
    "plt.show()"
   ]
  },
  {
   "cell_type": "code",
   "execution_count": 24,
   "metadata": {},
   "outputs": [],
   "source": [
    "def gini(dataset):\n",
    "    GI = 0\n",
    "    mean_data = np.mean(dataset)\n",
    "    for x_i in dataset:\n",
    "        for x_j in dataset:\n",
    "            GI += np.abs(x_i-x_j)\n",
    "\n",
    "    GI = GI/(2*len(dataset)**2*mean_data)\n",
    "    return(GI)"
   ]
  },
  {
   "cell_type": "code",
   "execution_count": 26,
   "metadata": {},
   "outputs": [
    {
     "name": "stdout",
     "output_type": "stream",
     "text": [
      "Aのジニ係数は0.276000\n",
      "Bのジニ係数は0.376000\n",
      "Cのジニ係数は0.120000\n"
     ]
    }
   ],
   "source": [
    "print('Aのジニ係数は%f'%gini(A))\n",
    "print('Bのジニ係数は%f'%gini(B))\n",
    "print('Cのジニ係数は%f'%gini(C))"
   ]
  },
  {
   "cell_type": "code",
   "execution_count": null,
   "metadata": {
    "collapsed": true
   },
   "outputs": [],
   "source": []
  }
 ],
 "metadata": {
  "kernelspec": {
   "display_name": "Python 3",
   "language": "python",
   "name": "python3"
  },
  "language_info": {
   "codemirror_mode": {
    "name": "ipython",
    "version": 3
   },
   "file_extension": ".py",
   "mimetype": "text/x-python",
   "name": "python",
   "nbconvert_exporter": "python",
   "pygments_lexer": "ipython3",
   "version": "3.6.3"
  }
 },
 "nbformat": 4,
 "nbformat_minor": 2
}
